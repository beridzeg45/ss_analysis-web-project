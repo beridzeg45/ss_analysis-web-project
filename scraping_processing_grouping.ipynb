{
 "cells": [
  {
   "cell_type": "code",
   "execution_count": 77,
   "metadata": {},
   "outputs": [],
   "source": [
    "from imports import *"
   ]
  },
  {
   "cell_type": "markdown",
   "metadata": {},
   "source": [
    "# Scraping"
   ]
  },
  {
   "cell_type": "markdown",
   "metadata": {},
   "source": [
    "\n",
    "! python scrape_article_urls.py"
   ]
  },
  {
   "cell_type": "markdown",
   "metadata": {},
   "source": [
    "! python scrape_article_data.py"
   ]
  },
  {
   "cell_type": "markdown",
   "metadata": {},
   "source": [
    "# Processing"
   ]
  },
  {
   "cell_type": "code",
   "execution_count": 78,
   "metadata": {},
   "outputs": [],
   "source": [
    "df=pd.read_csv('data/daily_df.csv')"
   ]
  },
  {
   "cell_type": "code",
   "execution_count": 79,
   "metadata": {},
   "outputs": [],
   "source": [
    "df=df.drop_duplicates(subset='Article ID')"
   ]
  },
  {
   "cell_type": "code",
   "execution_count": 81,
   "metadata": {},
   "outputs": [],
   "source": [
    "#article ID\n",
    "df['Article ID']=df['Article ID'].str.replace('ID|-','',regex=True).str.strip()"
   ]
  },
  {
   "cell_type": "code",
   "execution_count": 82,
   "metadata": {},
   "outputs": [],
   "source": [
    "# Date Published and Time Scraped\n",
    "month_dict={\n",
    " 'იან':'January',\n",
    " 'თებ':'February',\n",
    " 'მარ':'March',\n",
    " 'აპრ':'April',\n",
    " 'მაი':'May',\n",
    " 'ივნ':'June',\n",
    " 'ივლ':'July',\n",
    " 'აგვ':'August',\n",
    " 'სექ':'September',\n",
    " 'ოქტ':'October',\n",
    " 'ნოე':'November',\n",
    " 'დეკ':'December'\n",
    "}\n",
    "\n",
    "df['Date Published']=df['Date Published'].replace(month_dict, regex=True)\n",
    "df['Date Published']=pd.to_datetime(df['Date Published'],errors='coerce')\n",
    "\n",
    "time_scraped=df['Time Scraped'].tolist()\n",
    "df=df.drop(columns='Time Scraped')\n",
    "df.insert(\n",
    "    df.columns.get_loc('Date Published')+1,\n",
    "    'Time Scraped',\n",
    "    time_scraped\n",
    ")"
   ]
  },
  {
   "cell_type": "code",
   "execution_count": 83,
   "metadata": {},
   "outputs": [],
   "source": [
    "#Addresses\n",
    "df.drop('General Address',axis=1,errors='ignore',inplace=True)\n",
    "df.insert(\n",
    "    df.columns.get_loc('Address'),\n",
    "    'General Address',\n",
    "    df['Title'].apply(lambda x:x.split('ბინა ')[-1] if isinstance(x,str) else None)\n",
    ")\n",
    "suburb_dict={\n",
    "    'აეროპორტ': 'აეროპორტის დასახლება',\n",
    "    'ავჭალ': 'ავაჭალა',\n",
    "    'ავლაბარ': 'ავლაბარი',\n",
    "    'აფრიკ': 'აფრიკის დასახლება',\n",
    "    'ბაგებ': 'ბაგები',\n",
    "    'გლდან': 'გლდანი',\n",
    "    'დიდ დიღომ': 'დიდი დიღომი',\n",
    "    'დიდი დიღომ': 'დიდი დიღომი',\n",
    "    'დიდუბ': 'დიდუბე',\n",
    "    'დიღმის მასივ': 'დიღმის მასივი',\n",
    "    'მასივ': 'დიღმის მასივი',\n",
    "    'დიღომი 1': 'დიღომი',\n",
    "    'ვაზისუბ': 'ვაზისუბანი',\n",
    "    'ვაკე': 'ვაკე',\n",
    "    'ვაჟა': 'ვაჟა-ფშაველა',\n",
    "    'ფშაველა': 'ვაჟა-ფშაველა',\n",
    "    'ვარკეთილ': 'ვარკეთილი',\n",
    "    'ვაშლიჯ': 'ვაშლიჯვარი',\n",
    "    'ვერა': 'ვერა',\n",
    "    'ვეძის': 'ვეძისი',\n",
    "    'ზაჰეს': 'ზაჰესი',\n",
    "    'თემქ': 'თემქა',\n",
    "    'ივერთუბ': 'ივერთუბანი',\n",
    "    'ისან': 'ისანი',\n",
    "    'ლილო': 'ლილოს დასახლება',\n",
    "    'ლისის': 'ლისის ტბის დასახლება',\n",
    "    'ლისზე': 'ლისის ტბის დასახლება',\n",
    "    'მთაწმინდ': 'მთაწმინდა',\n",
    "    'მუხიან': 'მუხიანი',\n",
    "    'ნავთლუღ': 'ნავთლუღი',\n",
    "    'ნაძალად': 'ნაძალადევი',\n",
    "    'ნახალოვ': 'ნახალოვკა',\n",
    "    'ნუცუბიძ': 'ნუცუბიძის პლატო',\n",
    "    'ორთაჭალ': 'ორთაჭალა',\n",
    "    'ორხევ': 'ორხევი',\n",
    "    'საბურთალ': 'საბურთალო',\n",
    "    'სამგორ': 'სამგორი',\n",
    "    'სანზონ': 'სანზონა',\n",
    "    'სოლოლაკ': 'სოლოლაკი',\n",
    "    'სოფელ დიღომ': 'სოფელი დიღომი',\n",
    "    'სოფელი დიღომ': 'სოფელი დიღომი',\n",
    "    'სოფ. დიღო': 'სოფელი დიღომი',\n",
    "    'ფონიჭ': 'ფონიჭალა',\n",
    "    'ჩუღურეთ': 'ჩუღურეთი',\n",
    "    'ძველ თბილი': 'ძველი თბილისი',\n",
    "    'ძველი თბილი': 'ძველი თბილისი'\n",
    " }\n",
    "\n",
    "def contains_key(x):\n",
    "    for key, value in suburb_dict.items():\n",
    "        if key in str(x):\n",
    "            return value\n",
    "    return None"
   ]
  },
  {
   "cell_type": "code",
   "execution_count": 84,
   "metadata": {},
   "outputs": [],
   "source": [
    "#make more general\n",
    "df['General Address'] = df['General Address'].apply(contains_key)\n",
    "\n",
    "df.drop('Detailed Address',axis=1,errors='ignore',inplace=True)\n",
    "df.insert(\n",
    "    df.columns.get_loc('Address'),\n",
    "    'Detailed Address',\n",
    "    df['Address'].apply(lambda x:x.split(', ')[-1] if isinstance(x,str) else None)\n",
    ")\n"
   ]
  },
  {
   "cell_type": "code",
   "execution_count": 85,
   "metadata": {},
   "outputs": [],
   "source": [
    "# Details_1 and Dedails_2\n",
    "df['Area SQMT']=df['Details_1'].astype(str).apply(lambda x:x.split('საერთო ფართი|')[-1].split(' ')[0] if isinstance(x,str) else None).apply(pd.to_numeric,errors='coerce')\n",
    "df['Bedrooms']=df['Details_1'].astype(str).apply(lambda x:x.split('საძინებელი|')[-1].split(\"'\")[0] if isinstance(x,str) else None).apply(pd.to_numeric,errors='coerce')\n",
    "df['Rooms']=df['Details_1'].astype(str).apply(lambda x:x.split('ოთახი|')[-1].split(\"'\")[0] if isinstance(x,str) else None).apply(pd.to_numeric,errors='coerce')\n",
    "df['Floor']=df['Details_1'].astype(str).apply(lambda x:x.split('სართული|')[-1].split(\"/\")[0] if isinstance(x,str) else None).apply(pd.to_numeric,errors='coerce')\n",
    "df['Max Floors']=df['Details_1'].astype(str).apply(lambda x:x.split('სართული|')[-1].split(\"/\")[-1].split(\"'\")[0] if isinstance(x,str) else None).apply(pd.to_numeric,errors='coerce')\n",
    "df['Condition']=df['Details_2'].astype(str).apply(lambda x:x.split('მდგომარეობა|')[-1].split(\"/\")[-1].split(\"'\")[0] if isinstance(x,str) else None)\n",
    "df['Project']=df['Details_2'].astype(str).apply(lambda x:x.split('პროექტი|')[-1].split(\"/\")[-1].split(\"'\")[0] if isinstance(x,str) else None)\n",
    "df['Bathrooms']=df['Details_2'].astype(str).apply(lambda x:x.split('სველი წერტილი|')[-1].split(\"'\")[0] if isinstance(x,str) else None).apply(pd.to_numeric,errors='coerce')\n",
    "df['Status']=df['Details_2'].astype(str).apply(lambda x:x.split('სტატუსი|')[-1].split(\"/\")[-1].split(\"'\")[0] if isinstance(x,str) else None)\n",
    "\n",
    "df=df.drop(columns=['Details_1','Details_2'])"
   ]
  },
  {
   "cell_type": "code",
   "execution_count": 86,
   "metadata": {},
   "outputs": [],
   "source": [
    "#Price\n",
    "df['Price USD']=df.apply(lambda x:\n",
    "                  float(x['Price'].split('$')[0].replace(',','')) if '$' in str(x) else \n",
    "                  float(x['Price'].split('₾')[0].replace(',',''))/x['USD-GEL Rate'] if '₾' in str(x) else None, axis=1\n",
    "                  )\n",
    "df=df.drop(columns='Price')\n",
    "\n",
    "df=df[(df['Price USD']>0)&(df['Area SQMT']>0)]\n",
    "df['Price Per SQMT']=(df['Price USD']/df['Area SQMT']).round(2)\n",
    "df=df.dropna(subset=['Price Per SQMT'])\n",
    "\n",
    "mean_price=df['Price Per SQMT'].mean()\n",
    "std_price=df['Price Per SQMT'].mean()\n",
    "df=df.query('@mean_price-5*@std_price<`Price Per SQMT`<@mean_price+5*@std_price')"
   ]
  },
  {
   "cell_type": "code",
   "execution_count": 87,
   "metadata": {},
   "outputs": [],
   "source": [
    "#filter out unwanted rows\n",
    "df=df[(df['Condition']!='{')&(df['Status']!='{')]"
   ]
  },
  {
   "cell_type": "code",
   "execution_count": 88,
   "metadata": {},
   "outputs": [
    {
     "name": "stdout",
     "output_type": "stream",
     "text": [
      "Finished preprocessing\n"
     ]
    }
   ],
   "source": [
    "#save the processed df\n",
    "\n",
    "daily_df_processed=df\n",
    "daily_df_processed.to_csv('data/daily_df_processed.csv',index=False)\n",
    "print('Finished preprocessing')"
   ]
  },
  {
   "cell_type": "markdown",
   "metadata": {},
   "source": [
    "# Groupby"
   ]
  },
  {
   "cell_type": "code",
   "execution_count": 90,
   "metadata": {},
   "outputs": [
    {
     "name": "stdout",
     "output_type": "stream",
     "text": [
      "Finished all_time_grouped.csv\n"
     ]
    }
   ],
   "source": [
    "df=pd.read_csv('data/daily_df_processed.csv')\n",
    "\n",
    "df['Date Published']=pd.to_datetime(df['Date Published'],errors='coerce')\n",
    "\n",
    "grouped_df=df.groupby([df['Date Published'].dt.date,'General Address','Status','Condition']).agg({'Article ID':'count','Price Per SQMT':'median'}).reset_index()\n",
    "\n",
    "all_time_grouped=pd.read_csv(os.path.join('dash','all_time_grouped.csv'))\n",
    "all_time_grouped=all_time_grouped.drop_duplicates(subset=['Date Published','General Address','Status','Condition'],keep='last')\n",
    "all_time_grouped=pd.concat([all_time_grouped,grouped_df],ignore_index=True)\n",
    "all_time_grouped=all_time_grouped.sort_values(['Date Published','General Address','Status','Condition','Article ID'])\n",
    "all_time_grouped=all_time_grouped.drop_duplicates(subset=['Date Published','General Address','Status','Condition'],keep='last')\n",
    "all_time_grouped=all_time_grouped.groupby(['Date Published','Status']).filter(lambda x:x['Article ID'].sum()>=10)\n",
    "all_time_grouped['Date Published']=pd.to_datetime(all_time_grouped['Date Published'],errors='coerce')\n",
    "all_time_grouped=all_time_grouped.sort_values('Date Published')\n",
    "all_time_grouped.to_csv(os.path.join('dash','all_time_grouped.csv'),index=False)\n",
    "all_time_grouped.to_csv(os.path.join('data','all_time_grouped.csv'),index=False)\n",
    "\n",
    "\n",
    "print('Finished all_time_grouped.csv')"
   ]
  },
  {
   "cell_type": "markdown",
   "metadata": {},
   "source": [
    "# Coordinates"
   ]
  },
  {
   "cell_type": "code",
   "execution_count": 91,
   "metadata": {},
   "outputs": [],
   "source": [
    "df=pd.read_csv('data/all_time_unprocessed.csv')[['Address','Date Published','Price','Details_1']]"
   ]
  },
  {
   "cell_type": "code",
   "execution_count": 92,
   "metadata": {},
   "outputs": [],
   "source": [
    "df['address_simplified']=df['Address'].apply(lambda x:\n",
    "                    'თბილისი,'+x.split('ქ.')[0].split('გამზ')[0].replace(' 0','').replace(' 1','').replace(' 2','').replace(' 3','').split(',')[-1] if isinstance(x,str) else None\n",
    "                    )"
   ]
  },
  {
   "cell_type": "code",
   "execution_count": 93,
   "metadata": {},
   "outputs": [],
   "source": [
    "# date\n",
    "month_dict={\n",
    " 'იან':'January',\n",
    " 'თებ':'February',\n",
    " 'მარ':'March',\n",
    " 'აპრ':'April',\n",
    " 'მაი':'May',\n",
    " 'ივნ':'June',\n",
    " 'ივლ':'July',\n",
    " 'აგვ':'August',\n",
    " 'სექ':'September',\n",
    " 'ოქტ':'October',\n",
    " 'ნოე':'November',\n",
    " 'დეკ':'December'\n",
    "}\n",
    "\n",
    "df['Date Published']=df['Date Published'].replace(month_dict, regex=True)\n",
    "df['Date Published']=pd.to_datetime(df['Date Published'],errors='coerce')\n",
    "\n",
    "#area\n",
    "df['Area SQMT']=df['Details_1'].astype(str).apply(lambda x:x.split('საერთო ფართი|')[-1].split(' ')[0] if isinstance(x,str) else None).apply(pd.to_numeric,errors='coerce')\n",
    "\n",
    "#price\n",
    "df['Price USD']=df.apply(lambda x:\n",
    "                  float(x['Price'].split('$')[0].replace(',','')) if '$' in str(x) else None, axis=1\n",
    ")\n",
    "df=df.drop(columns='Price')\n",
    "\n",
    "df=df[(df['Price USD']>0)&(df['Area SQMT']>0)]\n",
    "df['Price Per SQMT']=(df['Price USD']/df['Area SQMT']).round(2)\n",
    "df=df.dropna(subset=['Price Per SQMT'])\n",
    "\n",
    "mean_price=df['Price Per SQMT'].mean()\n",
    "std_price=df['Price Per SQMT'].mean()\n",
    "df=df.query('@mean_price-5*@std_price<`Price Per SQMT`<@mean_price+5*@std_price')"
   ]
  },
  {
   "cell_type": "code",
   "execution_count": 94,
   "metadata": {},
   "outputs": [],
   "source": [
    "coordinates_dict=pickle.load(open(\"data/coordinates_dict.pickle\",'rb'))"
   ]
  },
  {
   "cell_type": "code",
   "execution_count": 95,
   "metadata": {},
   "outputs": [],
   "source": [
    "def map_coordinates(address):\n",
    "    if address in coordinates_dict:\n",
    "        return coordinates_dict[address]\n",
    "    else:\n",
    "        return {'Lat': None, 'Lon': None, 'Street': None}\n",
    "    \n",
    "mapped_coordinates=df['address_simplified'].apply(map_coordinates)\n",
    "mapped_df=pd.DataFrame(mapped_coordinates.tolist(),index=df.index)\n",
    "df=pd.concat([df,mapped_df],axis=1)"
   ]
  },
  {
   "cell_type": "code",
   "execution_count": 96,
   "metadata": {},
   "outputs": [],
   "source": [
    "coordinates_df=df[['Date Published','Price Per SQMT','Lat','Lon','Street']]"
   ]
  },
  {
   "cell_type": "code",
   "execution_count": 97,
   "metadata": {},
   "outputs": [],
   "source": [
    "coordinates_df.to_csv('data/coordinates_df.csv',index=False)"
   ]
  },
  {
   "cell_type": "code",
   "execution_count": null,
   "metadata": {},
   "outputs": [],
   "source": []
  }
 ],
 "metadata": {
  "kernelspec": {
   "display_name": "Python 3",
   "language": "python",
   "name": "python3"
  },
  "language_info": {
   "codemirror_mode": {
    "name": "ipython",
    "version": 3
   },
   "file_extension": ".py",
   "mimetype": "text/x-python",
   "name": "python",
   "nbconvert_exporter": "python",
   "pygments_lexer": "ipython3",
   "version": "3.11.3"
  }
 },
 "nbformat": 4,
 "nbformat_minor": 2
}
